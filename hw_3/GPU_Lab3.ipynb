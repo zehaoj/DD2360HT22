{
  "nbformat": 4,
  "nbformat_minor": 0,
  "metadata": {
    "colab": {
      "provenance": []
    },
    "kernelspec": {
      "name": "python3",
      "display_name": "Python 3"
    },
    "language_info": {
      "name": "python"
    },
    "accelerator": "GPU",
    "gpuClass": "standard"
  },
  "cells": [
    {
      "cell_type": "markdown",
      "source": [
        "Link to my GitHub repo: https://github.com/zehaoj/DD2360HT22"
      ],
      "metadata": {
        "id": "edYKeCAtAiDt"
      }
    },
    {
      "cell_type": "code",
      "execution_count": 1,
      "metadata": {
        "colab": {
          "base_uri": "https://localhost:8080/"
        },
        "id": "1OJcs4ZskVUA",
        "outputId": "9fd32762-d25c-482b-c892-f322ce79244a"
      },
      "outputs": [
        {
          "output_type": "stream",
          "name": "stdout",
          "text": [
            "nvcc: NVIDIA (R) Cuda compiler driver\n",
            "Copyright (c) 2005-2021 NVIDIA Corporation\n",
            "Built on Sun_Feb_14_21:12:58_PST_2021\n",
            "Cuda compilation tools, release 11.2, V11.2.152\n",
            "Build cuda_11.2.r11.2/compiler.29618528_0\n",
            "Tue Dec 13 10:16:08 2022       \n",
            "+-----------------------------------------------------------------------------+\n",
            "| NVIDIA-SMI 460.32.03    Driver Version: 460.32.03    CUDA Version: 11.2     |\n",
            "|-------------------------------+----------------------+----------------------+\n",
            "| GPU  Name        Persistence-M| Bus-Id        Disp.A | Volatile Uncorr. ECC |\n",
            "| Fan  Temp  Perf  Pwr:Usage/Cap|         Memory-Usage | GPU-Util  Compute M. |\n",
            "|                               |                      |               MIG M. |\n",
            "|===============================+======================+======================|\n",
            "|   0  Tesla T4            Off  | 00000000:00:04.0 Off |                    0 |\n",
            "| N/A   41C    P0    26W /  70W |      0MiB / 15109MiB |      0%      Default |\n",
            "|                               |                      |                  N/A |\n",
            "+-------------------------------+----------------------+----------------------+\n",
            "                                                                               \n",
            "+-----------------------------------------------------------------------------+\n",
            "| Processes:                                                                  |\n",
            "|  GPU   GI   CI        PID   Type   Process name                  GPU Memory |\n",
            "|        ID   ID                                                   Usage      |\n",
            "|=============================================================================|\n",
            "|  No running processes found                                                 |\n",
            "+-----------------------------------------------------------------------------+\n",
            "Cloning into 'lab3_cu_files'...\n",
            "remote: Enumerating objects: 7, done.\u001b[K\n",
            "remote: Counting objects: 100% (7/7), done.\u001b[K\n",
            "remote: Compressing objects: 100% (6/6), done.\u001b[K\n",
            "remote: Total 7 (delta 1), reused 7 (delta 1), pack-reused 0\u001b[K\n",
            "Unpacking objects: 100% (7/7), done.\n",
            "/content/lab3_cu_files\n"
          ]
        }
      ],
      "source": [
        "import matplotlib.pyplot as plt\n",
        "import subprocess\n",
        "import numpy as np\n",
        "\n",
        "!nvcc --version\n",
        "!nvidia-smi\n",
        "\n",
        "!git clone https://github.com/zehaoj/lab3_cu_files.git\n",
        "%cd lab3_cu_files"
      ]
    },
    {
      "cell_type": "markdown",
      "source": [
        "# Ex1 Your first CUDA program and GPU performance metrics"
      ],
      "metadata": {
        "id": "Sc0Z2IBBVeaX"
      }
    },
    {
      "cell_type": "markdown",
      "source": [
        "### Compile:"
      ],
      "metadata": {
        "id": "3pPOi9QXtNn5"
      }
    },
    {
      "cell_type": "code",
      "source": [
        "!nvcc ./lab3_ex1.cu -o lab3_ex1"
      ],
      "metadata": {
        "id": "48k93Dwwrpfl"
      },
      "execution_count": 2,
      "outputs": []
    },
    {
      "cell_type": "markdown",
      "source": [
        "### Run"
      ],
      "metadata": {
        "id": "_jWkh8IRtQL8"
      }
    },
    {
      "cell_type": "code",
      "source": [
        "!./lab3_ex1 131070"
      ],
      "metadata": {
        "colab": {
          "base_uri": "https://localhost:8080/"
        },
        "id": "0yZ1ETZ4sBRg",
        "outputId": "16298da8-f9ec-4305-d13b-f4b5656d1b74"
      },
      "execution_count": 3,
      "outputs": [
        {
          "output_type": "stream",
          "name": "stdout",
          "text": [
            "The input length is 131070\n",
            "Host to Device Time: 0.000724\n",
            "threads per block: 128 \n",
            "blocks num: 1024 \n",
            "CUDA Kernel: 0.000071\n",
            "Device to Host Time: 0.000946\n",
            "All good!\n"
          ]
        }
      ]
    },
    {
      "cell_type": "markdown",
      "source": [
        "### Profile"
      ],
      "metadata": {
        "id": "OEQs73VTtRtn"
      }
    },
    {
      "cell_type": "code",
      "source": [
        "!/usr/local/cuda-11/bin/nv-nsight-cu-cli ./lab3_ex1 131070"
      ],
      "metadata": {
        "colab": {
          "base_uri": "https://localhost:8080/"
        },
        "id": "ost8A9E3tTPR",
        "outputId": "6659226c-6c0a-44be-b135-d77bdf860038"
      },
      "execution_count": 4,
      "outputs": [
        {
          "output_type": "stream",
          "name": "stdout",
          "text": [
            "The input length is 131070\n",
            "==PROF== Connected to process 180 (/content/lab3_cu_files/lab3_ex1)\n",
            "Host to Device Time: 0.000758\n",
            "threads per block: 128 \n",
            "blocks num: 1024 \n",
            "==PROF== Profiling \"vecAdd\" - 1: 0%....50%....100% - 8 passes\n",
            "CUDA Kernel: 2.713575\n",
            "Device to Host Time: 0.001081\n",
            "All good!\n",
            "==PROF== Disconnected from process 180\n",
            "[180] lab3_ex1@127.0.0.1\n",
            "  vecAdd(double*, double*, double*, int), 2022-Dec-13 10:16:19, Context 1, Stream 7\n",
            "    Section: GPU Speed Of Light\n",
            "    ---------------------------------------------------------------------- --------------- ------------------------------\n",
            "    DRAM Frequency                                                           cycle/nsecond                           4.91\n",
            "    SM Frequency                                                             cycle/usecond                         575.64\n",
            "    Elapsed Cycles                                                                   cycle                          6,489\n",
            "    Memory [%]                                                                           %                          64.18\n",
            "    SOL DRAM                                                                             %                          64.18\n",
            "    Duration                                                                       usecond                          11.26\n",
            "    SOL L1/TEX Cache                                                                     %                          31.80\n",
            "    SOL L2 Cache                                                                         %                          32.66\n",
            "    SM Active Cycles                                                                 cycle                       5,153.85\n",
            "    SM [%]                                                                               %                          25.27\n",
            "    ---------------------------------------------------------------------- --------------- ------------------------------\n",
            "    WRN   Memory is more heavily utilized than Compute: Look at the Memory Workload Analysis report section to see      \n",
            "          where the memory system bottleneck is. Check memory replay (coalescing) metrics to make sure you're           \n",
            "          efficiently utilizing the bytes transferred. Also consider whether it is possible to do more work per memory  \n",
            "          access (kernel fusion) or whether there are values you can (re)compute.                                       \n",
            "\n",
            "    Section: Launch Statistics\n",
            "    ---------------------------------------------------------------------- --------------- ------------------------------\n",
            "    Block Size                                                                                                        128\n",
            "    Function Cache Configuration                                                                  cudaFuncCachePreferNone\n",
            "    Grid Size                                                                                                       1,024\n",
            "    Registers Per Thread                                                   register/thread                             16\n",
            "    Shared Memory Configuration Size                                                 Kbyte                          32.77\n",
            "    Driver Shared Memory Per Block                                              byte/block                              0\n",
            "    Dynamic Shared Memory Per Block                                             byte/block                              0\n",
            "    Static Shared Memory Per Block                                              byte/block                              0\n",
            "    Threads                                                                         thread                        131,072\n",
            "    Waves Per SM                                                                                                     3.20\n",
            "    ---------------------------------------------------------------------- --------------- ------------------------------\n",
            "    WRN   A wave of thread blocks is defined as the maximum number of blocks that can be executed in parallel on the    \n",
            "          target GPU. The number of blocks in a wave depends on the number of multiprocessors and the theoretical       \n",
            "          occupancy of the kernel. This kernel launch results in 3 full waves and a partial wave of 64 thread blocks.   \n",
            "          Under the assumption of a uniform execution duration of all thread blocks, the partial wave may account for   \n",
            "          up to 25.0% of the total kernel runtime with a lower occupancy of 22.1%. Try launching a grid with no         \n",
            "          partial wave. The overall impact of this tail effect also lessens with the number of full waves executed for  \n",
            "          a grid.                                                                                                       \n",
            "\n",
            "    Section: Occupancy\n",
            "    ---------------------------------------------------------------------- --------------- ------------------------------\n",
            "    Block Limit SM                                                                   block                             16\n",
            "    Block Limit Registers                                                            block                             32\n",
            "    Block Limit Shared Mem                                                           block                             16\n",
            "    Block Limit Warps                                                                block                              8\n",
            "    Theoretical Active Warps per SM                                                   warp                             32\n",
            "    Theoretical Occupancy                                                                %                            100\n",
            "    Achieved Occupancy                                                                   %                          77.90\n",
            "    Achieved Active Warps Per SM                                                      warp                          24.93\n",
            "    ---------------------------------------------------------------------- --------------- ------------------------------\n",
            "\n"
          ]
        }
      ]
    },
    {
      "cell_type": "markdown",
      "source": [
        "## Questions\n",
        "\n",
        "1. Explain how the program is compiled and run. \n",
        "\n",
        "  **Shown above.**\n",
        "\n",
        "2. For a vector length of N:\n",
        "  1. How many floating operations are being performed in your vector add kernel? \n",
        "\n",
        "    **N**\n",
        "\n",
        "  2. How many global memory reads are being performed by your kernel? \n",
        "  \n",
        "    **2N**"
      ],
      "metadata": {
        "id": "0jXswmuukYm7"
      }
    },
    {
      "cell_type": "markdown",
      "source": [
        "3. For a vector length of 1024:\n",
        "    1. Explain how many CUDA threads and thread blocks you used. \n",
        "\n",
        "      **Threads per blocks: 128; Blocks: 8.**\n",
        "\n",
        "    2. Profile your program with Nvidia Nsight. What Achieved Occupancy did you get?\n",
        "\n",
        "      **12.13%**\n"
      ],
      "metadata": {
        "id": "xunufyD9kmDV"
      }
    },
    {
      "cell_type": "markdown",
      "source": [
        "4. Now increase the vector length to 131070:\n",
        "  1. Did your program still work? If not, what changes did you make?\n",
        "\n",
        "    **It works.**\n",
        "\n",
        "  2. Explain how many CUDA threads and thread blocks you used.\n",
        "\n",
        "    **Threads per blocks: 128; Blocks: 1024.**\n",
        "\n",
        "  3. Profile your program with Nvidia Nsight. What Achieved Occupancy do you get now?\n",
        "\n",
        "    **76.96%**"
      ],
      "metadata": {
        "id": "VxUOCYkykpcP"
      }
    },
    {
      "cell_type": "markdown",
      "source": [
        "5. Further increase the vector length (try 6-10 different vector length), plot a stacked bar chart showing the breakdown of time including (1) data copy from host to device (2) the CUDA kernel (3) data copy from device to host."
      ],
      "metadata": {
        "id": "q6mDk3ghkuhx"
      }
    },
    {
      "cell_type": "code",
      "source": [
        "vector_length_list = [\"123456\", \"654321\", \"1234567\", \"7654321\", \"12345678\", \"87654321\"]\n",
        "host2device_list = []\n",
        "device2host_list = []\n",
        "cuda_list = []\n",
        "\n",
        "for vectorLength in vector_length_list:\n",
        "  result = subprocess.run(['./lab3_ex1', vectorLength], stdout=subprocess.PIPE)\n",
        "  result = result.stdout.decode('utf-8').split(\"\\n\")\n",
        "  host2device_list.append(float(result[1].split(\":\")[1]))\n",
        "  device2host_list.append(float(result[5].split(\":\")[1]))\n",
        "  cuda_list.append(float(result[4].split(\":\")[1]))\n",
        "\n",
        "print(host2device_list)\n",
        "print(cuda_list)\n",
        "print(device2host_list)\n",
        "\n",
        "host2device_list = np.array(host2device_list)\n",
        "cuda_list = np.array(cuda_list)\n",
        "device2host_list = np.array(device2host_list)"
      ],
      "metadata": {
        "colab": {
          "base_uri": "https://localhost:8080/"
        },
        "id": "P6gdnzUPkzv4",
        "outputId": "36b96507-3de3-47b3-ffab-55722b628cf4"
      },
      "execution_count": 5,
      "outputs": [
        {
          "output_type": "stream",
          "name": "stdout",
          "text": [
            "[0.000642, 0.0046, 0.017718, 0.028551, 0.049577, 0.296752]\n",
            "[3.1e-05, 8e-05, 0.000132, 0.000714, 0.001141, 0.00799]\n",
            "[0.000782, 0.005731, 0.022494, 0.04491, 0.070952, 0.445688]\n"
          ]
        }
      ]
    },
    {
      "cell_type": "code",
      "source": [
        "plt.figure(figsize=(10, 6))\n",
        "plt.bar(vector_length_list, host2device_list, label='Host to Device')\n",
        "plt.bar(vector_length_list, cuda_list, bottom=host2device_list, label='CUDA')\n",
        "plt.bar(vector_length_list, device2host_list, \n",
        "        bottom=cuda_list+host2device_list, label='Device to Host')\n",
        "plt.title('Breakdown Time')\n",
        "plt.xlabel('Vector Length')\n",
        "plt.ylabel('Time')\n",
        "plt.legend()\n",
        "plt.show()"
      ],
      "metadata": {
        "colab": {
          "base_uri": "https://localhost:8080/",
          "height": 404
        },
        "id": "iyqvO_LgwN6-",
        "outputId": "39f822be-e139-4c2c-8039-2deb45bdd717"
      },
      "execution_count": 6,
      "outputs": [
        {
          "output_type": "display_data",
          "data": {
            "text/plain": [
              "<Figure size 720x432 with 1 Axes>"
            ],
            "image/png": "[encoded data removed]"
          },
          "metadata": {
            "needs_background": "light"
          }
        }
      ]
    },
    {
      "cell_type": "markdown",
      "source": [
        "# Ex2 2D Dense Matrix Multiplication"
      ],
      "metadata": {
        "id": "2d9G-NbLU6Pv"
      }
    },
    {
      "cell_type": "markdown",
      "source": [
        "### Compile"
      ],
      "metadata": {
        "id": "nkShuab9zhZf"
      }
    },
    {
      "cell_type": "code",
      "source": [
        "!nvcc ./lab3_ex2.cu -o lab3_ex2"
      ],
      "metadata": {
        "id": "jzvESorYVk5v"
      },
      "execution_count": 7,
      "outputs": []
    },
    {
      "cell_type": "markdown",
      "source": [
        "### Run"
      ],
      "metadata": {
        "id": "1ohKF-1mzm50"
      }
    },
    {
      "cell_type": "code",
      "source": [
        "!./lab3_ex2 511 1023 1023 4094"
      ],
      "metadata": {
        "colab": {
          "base_uri": "https://localhost:8080/"
        },
        "id": "RTJGQQhVwrDe",
        "outputId": "e24d735c-e896-4f1b-afb8-b74e630efb4c"
      },
      "execution_count": 8,
      "outputs": [
        {
          "output_type": "stream",
          "name": "stdout",
          "text": [
            "Input matrix dim (511 x 1023) (1023 x 4094) (511 x 4094)\n",
            "Host to Device Time: 0.008243\n",
            "threads per block x: 32 y: 32\n",
            "blocks num x: 128, y: 16 \n",
            "CUDA Kernel: 0.048076\n",
            "Device to Host Time: 0.010457\n",
            "All good!\n"
          ]
        }
      ]
    },
    {
      "cell_type": "markdown",
      "source": [
        "### Profile"
      ],
      "metadata": {
        "id": "00wjHzQwzoR2"
      }
    },
    {
      "cell_type": "code",
      "source": [
        "!/usr/local/cuda-11/bin/nv-nsight-cu-cli ./lab3_ex2 511 1023 1023 4094"
      ],
      "metadata": {
        "colab": {
          "base_uri": "https://localhost:8080/"
        },
        "id": "ZeVbb6Bww44X",
        "outputId": "0409aca1-dcc3-4a66-9c71-425f48188e7f"
      },
      "execution_count": 9,
      "outputs": [
        {
          "output_type": "stream",
          "name": "stdout",
          "text": [
            "Input matrix dim (511 x 1023) (1023 x 4094) (511 x 4094)\n",
            "==PROF== Connected to process 264 (/content/lab3_cu_files/lab3_ex2)\n",
            "Host to Device Time: 0.008191\n",
            "threads per block x: 32 y: 32\n",
            "blocks num x: 128, y: 16 \n",
            "==PROF== Profiling \"gemm\" - 1: 0%....50%....100% - 8 passes\n",
            "CUDA Kernel: 1.016107\n",
            "Device to Host Time: 0.011281\n",
            "All good!\n",
            "==PROF== Disconnected from process 264\n",
            "[264] lab3_ex2@127.0.0.1\n",
            "  gemm(double*, double*, double*, int, int, int, int), 2022-Dec-13 10:17:39, Context 1, Stream 7\n",
            "    Section: GPU Speed Of Light\n",
            "    ---------------------------------------------------------------------- --------------- ------------------------------\n",
            "    DRAM Frequency                                                           cycle/nsecond                           5.00\n",
            "    SM Frequency                                                             cycle/usecond                         584.94\n",
            "    Elapsed Cycles                                                                   cycle                     28,109,974\n",
            "    Memory [%]                                                                           %                          25.31\n",
            "    SOL DRAM                                                                             %                           5.42\n",
            "    Duration                                                                       msecond                          48.06\n",
            "    SOL L1/TEX Cache                                                                     %                          50.62\n",
            "    SOL L2 Cache                                                                         %                           2.90\n",
            "    SM Active Cycles                                                                 cycle                  27,719,758.18\n",
            "    SM [%]                                                                               %                          95.22\n",
            "    ---------------------------------------------------------------------- --------------- ------------------------------\n",
            "    OK    The kernel is utilizing greater than 80.0% of the available compute or memory performance of the device. To   \n",
            "          further improve performance, work will likely need to be shifted from the most utilized to another unit.      \n",
            "          Start by analyzing workloads in the Compute Workload Analysis section.                                        \n",
            "\n",
            "    Section: Launch Statistics\n",
            "    ---------------------------------------------------------------------- --------------- ------------------------------\n",
            "    Block Size                                                                                                      1,024\n",
            "    Function Cache Configuration                                                                  cudaFuncCachePreferNone\n",
            "    Grid Size                                                                                                       2,048\n",
            "    Registers Per Thread                                                   register/thread                             62\n",
            "    Shared Memory Configuration Size                                                 Kbyte                          32.77\n",
            "    Driver Shared Memory Per Block                                              byte/block                              0\n",
            "    Dynamic Shared Memory Per Block                                             byte/block                              0\n",
            "    Static Shared Memory Per Block                                              byte/block                              0\n",
            "    Threads                                                                         thread                      2,097,152\n",
            "    Waves Per SM                                                                                                    51.20\n",
            "    ---------------------------------------------------------------------- --------------- ------------------------------\n",
            "\n",
            "    Section: Occupancy\n",
            "    ---------------------------------------------------------------------- --------------- ------------------------------\n",
            "    Block Limit SM                                                                   block                             16\n",
            "    Block Limit Registers                                                            block                              1\n",
            "    Block Limit Shared Mem                                                           block                             16\n",
            "    Block Limit Warps                                                                block                              1\n",
            "    Theoretical Active Warps per SM                                                   warp                             32\n",
            "    Theoretical Occupancy                                                                %                            100\n",
            "    Achieved Occupancy                                                                   %                          98.57\n",
            "    Achieved Active Warps Per SM                                                      warp                          31.54\n",
            "    ---------------------------------------------------------------------- --------------- ------------------------------\n",
            "\n"
          ]
        }
      ]
    },
    {
      "cell_type": "markdown",
      "source": [
        "### Questions"
      ],
      "metadata": {
        "id": "oC0XZbB_zv3R"
      }
    },
    {
      "cell_type": "markdown",
      "source": [
        "1. Name three applications domains of matrix multiplication.\n",
        "\n",
        "  **Machine learning, scientific computing, computer graphics.**"
      ],
      "metadata": {
        "id": "jhS15brYVne2"
      }
    },
    {
      "cell_type": "markdown",
      "source": [
        "2. How many floating operations are being performed in your matrix multiply kernel? \n",
        "\n",
        "  **2 * numARows * numBColumns * numAColumns**"
      ],
      "metadata": {
        "id": "EdpVhaZKVGwA"
      }
    },
    {
      "cell_type": "markdown",
      "source": [
        "3. How many global memory reads are being performed by your kernel?  \n",
        "\n",
        "  **3 * numARows * numBColumns * numAColumns**"
      ],
      "metadata": {
        "id": "z84cSYCBVI38"
      }
    },
    {
      "cell_type": "markdown",
      "source": [
        "4. For a matrix A of (128x128) and B of (128x128):\n",
        "  1. Explain how many CUDA threads and thread blocks you used. \n",
        "  \n",
        "    **32 thread per block X, 32 thread per block Y, 4 blocks X, 4 blocks Y**\n",
        "  2. Profile your program with Nvidia Nsight. What Achieved Occupancy did you get? \n",
        "\n",
        "    **96.28%**"
      ],
      "metadata": {
        "id": "ylInKJSiVLKk"
      }
    },
    {
      "cell_type": "markdown",
      "source": [
        "5. For a matrix A of (511x1023) and B of (1023x4094):\n",
        "  1. Did your program still work? If not, what changes did you make?\n",
        "\n",
        "    **It works.**\n",
        "  2. Explain how many CUDA threads and thread blocks you used.\n",
        "\n",
        "    **32 thread per block X, 32 thread per block Y, 128 blocks X, 16 blocks Y**\n",
        "\n",
        "  3. Profile your program with Nvidia Nsight. What Achieved Occupancy do you get now?\n",
        "\n",
        "    **98.57%**"
      ],
      "metadata": {
        "id": "6MwkAqrEVQsv"
      }
    },
    {
      "cell_type": "markdown",
      "source": [
        "6. Further increase the size of matrix A and B, plot a stacked bar chart showing the breakdown of time including (1) data copy from host to device (2) the CUDA kernel (3) data copy from device to host. For this, you will need to add simple CPU timers to your code regions. Explain what you observe."
      ],
      "metadata": {
        "id": "JSFfskClVWCr"
      }
    },
    {
      "cell_type": "code",
      "source": [
        "dimension_list = [\"200\", \"300\", \"400\", \"500\", \"600\"]\n",
        "host2device_list = []\n",
        "device2host_list = []\n",
        "cuda_list = []\n",
        "whole_dimension_list = []\n",
        "\n",
        "for dimension1 in dimension_list:\n",
        "  # for dimension2 in dimension_list:\n",
        "    # for dimension3 in dimension_list:\n",
        "  dimension2 = str(int(dimension1) * 2)\n",
        "  dimension3 = dimension2\n",
        "  whole_dimension_list.append(\"(\" + dimension1 + \", \" + \n",
        "                              dimension2 + \") * \\n(\" + dimension2\n",
        "                              + \", \" + dimension3 + \")\")\n",
        "  result = subprocess.run(['./lab3_ex2', dimension1, dimension2, \n",
        "                            dimension2, dimension3], stdout=subprocess.PIPE)\n",
        "  result = result.stdout.decode('utf-8').split(\"\\n\")\n",
        "  host2device_list.append(float(result[1].split(\":\")[1]))\n",
        "  device2host_list.append(float(result[5].split(\":\")[1]))\n",
        "  cuda_list.append(float(result[4].split(\":\")[1]))\n",
        "\n",
        "print(host2device_list)\n",
        "print(cuda_list)\n",
        "print(device2host_list)\n",
        "print(whole_dimension_list)\n",
        "\n",
        "host2device_list = np.array(host2device_list)\n",
        "cuda_list = np.array(cuda_list)\n",
        "device2host_list = np.array(device2host_list)"
      ],
      "metadata": {
        "colab": {
          "base_uri": "https://localhost:8080/"
        },
        "id": "pLYt3yDvz4Dw",
        "outputId": "785f44a7-b6b5-4b3d-e6d4-b20762ca7f06"
      },
      "execution_count": 10,
      "outputs": [
        {
          "output_type": "stream",
          "name": "stdout",
          "text": [
            "[0.000553, 0.001063, 0.001999, 0.002736, 0.003911]\n",
            "[0.000846, 0.002756, 0.005846, 0.011494, 0.020136]\n",
            "[0.000525, 0.001064, 0.001761, 0.002601, 0.004003]\n",
            "['(200, 400) * \\n(400, 400)', '(300, 600) * \\n(600, 600)', '(400, 800) * \\n(800, 800)', '(500, 1000) * \\n(1000, 1000)', '(600, 1200) * \\n(1200, 1200)']\n"
          ]
        }
      ]
    },
    {
      "cell_type": "code",
      "source": [
        "plt.figure(figsize=(15, 6))\n",
        "plt.bar(whole_dimension_list, host2device_list, label='Host to Device')\n",
        "plt.bar(whole_dimension_list, cuda_list, bottom=host2device_list, label='CUDA')\n",
        "plt.bar(whole_dimension_list, device2host_list, \n",
        "        bottom=cuda_list+host2device_list, label='Device to Host')\n",
        "plt.title('Breakdown Time')\n",
        "plt.xlabel('Matrix Size')\n",
        "plt.ylabel('Time')\n",
        "plt.legend()\n",
        "plt.show()"
      ],
      "metadata": {
        "colab": {
          "base_uri": "https://localhost:8080/",
          "height": 345
        },
        "id": "GdvTZDLh0tl4",
        "outputId": "05c72dfe-f4ba-419b-e2e3-fff1ed8b7ae8"
      },
      "execution_count": 11,
      "outputs": [
        {
          "output_type": "display_data",
          "data": {
            "text/plain": [
              "<Figure size 1080x432 with 1 Axes>"
            ],
            "image/png": "[encoded data removed]"
          },
          "metadata": {
            "needs_background": "light"
          }
        }
      ]
    },
    {
      "cell_type": "markdown",
      "source": [
        "**What I observed: the CUDA part takes up most of the time since the matrix size is increasing and the calculation is increase by multiplication over ARows, BColumns and AColumns.**"
      ],
      "metadata": {
        "id": "OehijvX05LSz"
      }
    },
    {
      "cell_type": "markdown",
      "source": [
        "7. Now, change DataType from double to float, re-plot the a stacked bar chart showing the time breakdown. Explain what you observe. "
      ],
      "metadata": {
        "id": "ZGc9IBy_VZRM"
      }
    },
    {
      "cell_type": "code",
      "source": [
        "!nvcc ./lab3_ex2_float.cu -o lab3_ex2_float"
      ],
      "metadata": {
        "id": "5-XaSApf55hA"
      },
      "execution_count": 12,
      "outputs": []
    },
    {
      "cell_type": "code",
      "source": [
        "dimension_list = [\"200\", \"300\", \"400\", \"500\", \"600\"]\n",
        "host2device_list = []\n",
        "device2host_list = []\n",
        "cuda_list = []\n",
        "whole_dimension_list = []\n",
        "\n",
        "for dimension1 in dimension_list:\n",
        "  dimension2 = str(int(dimension1) * 2)\n",
        "  dimension3 = dimension2\n",
        "  whole_dimension_list.append(\"(\" + dimension1 + \", \" + \n",
        "                              dimension2 + \") * \\n(\" + dimension2\n",
        "                              + \", \" + dimension3 + \")\")\n",
        "  result = subprocess.run(['./lab3_ex2_float', dimension1, dimension2, \n",
        "                            dimension2, dimension3], stdout=subprocess.PIPE)\n",
        "  result = result.stdout.decode('utf-8').split(\"\\n\")\n",
        "  host2device_list.append(float(result[1].split(\":\")[1]))\n",
        "  device2host_list.append(float(result[5].split(\":\")[1]))\n",
        "  cuda_list.append(float(result[4].split(\":\")[1]))\n",
        "\n",
        "print(host2device_list)\n",
        "print(cuda_list)\n",
        "print(device2host_list)\n",
        "print(whole_dimension_list)\n",
        "\n",
        "host2device_list = np.array(host2device_list)\n",
        "cuda_list = np.array(cuda_list)\n",
        "device2host_list = np.array(device2host_list)"
      ],
      "metadata": {
        "colab": {
          "base_uri": "https://localhost:8080/"
        },
        "id": "1NoQ8q4F52gE",
        "outputId": "596c0f36-5e0c-4e36-fcae-3b64fbb31ff7"
      },
      "execution_count": 13,
      "outputs": [
        {
          "output_type": "stream",
          "name": "stdout",
          "text": [
            "[0.000318, 0.00061, 0.000976, 0.00153, 0.00199]\n",
            "[0.000281, 0.000765, 0.001592, 0.003233, 0.005683]\n",
            "[0.000265, 0.000564, 0.000993, 0.00148, 0.00204]\n",
            "['(200, 400) * \\n(400, 400)', '(300, 600) * \\n(600, 600)', '(400, 800) * \\n(800, 800)', '(500, 1000) * \\n(1000, 1000)', '(600, 1200) * \\n(1200, 1200)']\n"
          ]
        }
      ]
    },
    {
      "cell_type": "code",
      "source": [
        "plt.figure(figsize=(15, 6))\n",
        "plt.bar(whole_dimension_list, host2device_list, label='Host to Device')\n",
        "plt.bar(whole_dimension_list, cuda_list, bottom=host2device_list, label='CUDA')\n",
        "plt.bar(whole_dimension_list, device2host_list, \n",
        "        bottom=cuda_list+host2device_list, label='Device to Host')\n",
        "plt.title('Breakdown Time')\n",
        "plt.xlabel('Matrix Size')\n",
        "plt.ylabel('Time')\n",
        "plt.legend()\n",
        "plt.show()"
      ],
      "metadata": {
        "colab": {
          "base_uri": "https://localhost:8080/",
          "height": 345
        },
        "id": "zGYKEBnO6VDZ",
        "outputId": "5bbb724e-90a0-4f62-d2e1-db91a7cf0ddf"
      },
      "execution_count": 14,
      "outputs": [
        {
          "output_type": "display_data",
          "data": {
            "text/plain": [
              "<Figure size 1080x432 with 1 Axes>"
            ],
            "image/png": "[encoded data removed]"
          },
          "metadata": {
            "needs_background": "light"
          }
        }
      ]
    },
    {
      "cell_type": "markdown",
      "source": [
        "**What I observed: Using `float` is much faster than double, because float only has half the size of double.**"
      ],
      "metadata": {
        "id": "iAA7xMJv6Wn6"
      }
    },
    {
      "cell_type": "markdown",
      "source": [
        "# Ex3 Histogram and Atomics"
      ],
      "metadata": {
        "id": "qtWdu8mz60DQ"
      }
    },
    {
      "cell_type": "markdown",
      "source": [
        "### Questions"
      ],
      "metadata": {
        "id": "K_oKX7Ru68tr"
      }
    },
    {
      "cell_type": "markdown",
      "source": [
        "1. Describe all optimizations you tried regardless of whether you committed to them or abandoned them and whether they improved or hurt performance. \n",
        "\n",
        "  **I only implemented writing to global memory using atomicAdd(). It will not be the optimal solution when facing large number inputs but much easier to write.**\n",
        "\n",
        "  **I didn't implement writing to shared memory method but I think it will perform better when the input is large.**"
      ],
      "metadata": {
        "id": "ybY4Zxkz6_op"
      }
    },
    {
      "cell_type": "markdown",
      "source": [
        "2. Which optimizations you chose in the end and why? \n",
        "\n",
        "  **I chose global memory optimization because it is easier to implement and also since the input elements won't be too large in this lab, the performance difference will be not that big.**"
      ],
      "metadata": {
        "id": "TnnEe-Xt7Dc7"
      }
    },
    {
      "cell_type": "markdown",
      "source": [
        "3. How many global memory reads are being performed by your kernel? Explain \n",
        "\n",
        "  **For the histogram_kernel, 2 * numElements are performed because add function is called; for the convert_kernel, numBins are performed because it needs to iterate through all bins.**"
      ],
      "metadata": {
        "id": "vxd7ciHp7FLW"
      }
    },
    {
      "cell_type": "markdown",
      "source": [
        "4. How many atomic operations are being performed by your kernel? Explain\n",
        "\n",
        "  **For the histogram_kernel, numElements; for the convert_kernel, none.**"
      ],
      "metadata": {
        "id": "omM9-Ewg7HQb"
      }
    },
    {
      "cell_type": "markdown",
      "source": [
        "5. How much shared memory is used in your code? Explain\n",
        "\n",
        "  **None**"
      ],
      "metadata": {
        "id": "I8myYMSS7Iz5"
      }
    },
    {
      "cell_type": "markdown",
      "source": [
        "6. How would the value distribution of the input array affect the contention among threads? For instance, what contentions would you expect if every element in the array has the same value? \n",
        "\n",
        "  **If every element in the array has the same value (e.g. 127) then that's the max contention.**"
      ],
      "metadata": {
        "id": "IsCe3f_S7KbS"
      }
    },
    {
      "cell_type": "markdown",
      "source": [
        "7. Plot a histogram generated by your code and specify your input length, thread block and grid.\n",
        "\n",
        "  Here, I choose inputLength=102400, with 32 threads per block and 3305 blocks."
      ],
      "metadata": {
        "id": "H3eB5o7W7M6q"
      }
    },
    {
      "cell_type": "code",
      "source": [
        "!nvcc ./lab3_ex3.cu -o lab3_ex3"
      ],
      "metadata": {
        "id": "Y4yR8eTCDKik"
      },
      "execution_count": 15,
      "outputs": []
    },
    {
      "cell_type": "code",
      "source": [
        "result = subprocess.run(['./lab3_ex3', '102400'], stdout=subprocess.PIPE)\n",
        "result = result.stdout.decode('utf-8')\n",
        "histogram = result.split('\\n')[-1].split(' ')"
      ],
      "metadata": {
        "id": "aKq12QTCB6X6"
      },
      "execution_count": 16,
      "outputs": []
    },
    {
      "cell_type": "code",
      "source": [
        "plt.figure(figsize=(15, 10))\n",
        "bins = list(range(1,len(histogram)+1))\n",
        "plt.bar(bins, histogram, width=1.0)\n",
        "plt.show()"
      ],
      "metadata": {
        "colab": {
          "base_uri": "https://localhost:8080/",
          "height": 505
        },
        "id": "Z8fgtDgEEDau",
        "outputId": "41e499ca-fb86-4f63-c7eb-c41875c92864"
      },
      "execution_count": 17,
      "outputs": [
        {
          "output_type": "display_data",
          "data": {
            "text/plain": [
              "<Figure size 1080x720 with 1 Axes>"
            ],
            "image/png": "[encoded data removed]"
          },
          "metadata": {
            "needs_background": "light"
          }
        }
      ]
    },
    {
      "cell_type": "markdown",
      "source": [
        "8. For a input array of 1024 elements, profile with Nvidia Nsight and report Shared Memory Configuration Size and Achieved Occupancy. Did Nvsight report any potential performance issues?"
      ],
      "metadata": {
        "id": "KtOmuyuW7O37"
      }
    },
    {
      "cell_type": "markdown",
      "source": [
        "  Yes, it gave the warning \n",
        "  \n",
        "  *WRN   This kernel grid is too small to fill the available resources on this device, resulting in only 0.1 full waves across all SMs. Look at Launch Statistics for more details.*"
      ],
      "metadata": {
        "id": "xNzX2mmWERlv"
      }
    },
    {
      "cell_type": "code",
      "source": [
        "!/usr/local/cuda-11/bin/nv-nsight-cu-cli ./lab3_ex3 1024"
      ],
      "metadata": {
        "colab": {
          "base_uri": "https://localhost:8080/"
        },
        "id": "Gguq-avk63S3",
        "outputId": "34bc3997-00cb-491b-8286-4ab1d9555628"
      },
      "execution_count": 18,
      "outputs": [
        {
          "output_type": "stream",
          "name": "stdout",
          "text": [
            "The input length is 1024\n",
            "==PROF== Connected to process 397 (/content/lab3_cu_files/lab3_ex3)\n",
            "==PROF== Profiling \"histogram_kernel\" - 1: 0%....50%....100% - 8 passes\n",
            "==PROF== Profiling \"convert_kernel\" - 2: 0%....50%....100% - 8 passes\n",
            "All good!\n",
            "0 0 1 0 0 1 0 0 0 0 0 1 0 1 0 0 0 0 0 0 0 0 1 0 1 0 0 0 0 0 0 0 0 1 0 0 0 1 0 0 0 1 0 0 0 0 2 0 0 1 0 0 0 0 0 0 0 1 0 1 0 0 0 0 0 0 0 0 2 0 0 0 0 1 0 0 1 0 0 0 0 1 0 1 1 0 0 0 0 0 1 0 0 0 0 0 0 0 0 2 0 0 0 0 0 0 0 0 1 0 1 0 0 0 1 0 0 0 0 0 0 0 0 0 2 1 0 0 0 0 0 0 0 0 0 1 0 2 0 1 0 0 1 0 0 0 1 0 1 1 0 0 0 0 0 0 0 0 1 0 0 0 0 1 0 0 0 0 0 0 1 0 0 0 0 0 0 0 0 1 0 0 0 0 0 0 0 0 0 0 0 0 0 0 0 0 0 0 1 1 1 0 0 0 0 2 0 0 0 1 0 0 0 0 0 1 1 0 0 0 0 0 0 0 0 0 0 1 0 0 1 0 0 0 1 0 0 1 0 1 0 1 0 0 0 0 0 0 0 0 0 1 0 1 0 0 0 0 2 0 0 2 0 0 0 1 0 0 0 1 1 0 2 0 0 0 0 1 0 0 0 1 0 0 1 0 0 0 0 0 1 0 0 1 0 0 0 0 0 0 0 0 0 0 0 0 1 0 0 1 0 1 0 0 1 1 1 0 0 0 0 0 0 0 0 0 1 0 1 1 0 0 1 0 1 0 0 0 0 1 0 0 0 0 0 0 0 0 1 0 1 0 0 0 0 0 0 1 1 0 0 0 0 0 0 0 0 1 0 0 0 0 0 0 0 0 0 0 0 0 0 0 2 0 0 0 0 0 0 0 0 0 0 0 0 0 0 0 0 0 0 1 0 0 0 0 1 0 1 0 0 0 0 0 0 0 0 0 0 0 0 0 0 1 0 0 1 0 1 0 0 2 0 0 1 0 1 1 0 0 0 0 0 0 0 0 0 0 0 0 0 1 0 0 1 2 0 0 0 0 0 0 0 1 0 0 0 0 0 0 0 0 1 0 0 0 0 0 0 0 0 0 0 0 0 0 0 0 0 0 0 0 0 0 1 0 1 0 2 0 0 0 1 0 0 0 0 0 0 1 1 2 0 0 0 0 0 0 0 1 2 1 0 0 0 0 0 0 1 1 0 0 0 0 1 0 1 0 0 1 0 0 1 1 1 0 1 0 0 0 0 0 1 0 0 0 0 0 0 0 0 0 0 2 0 0 0 1 0 0 1 0 0 0 1 0 0 1 0 1 0 0 1 1 0 0 0 0 0 1 0 0 1 0 0 0 0 1 0 0 0 0 1 0 0 0 0 0 0 1 0 1 0 1 0 0 0 0 0 0 1 0 0 0 0 1 0 1 0 1 0 1 0 0 0 0 0 0 0 0 0 0 0 0 0 0 0 0 0 0 0 1 0 0 0 0 0 0 0 0 0 1 0 0 1 0 1 2 0 0 0 1 0 0 0 0 0 0 0 0 0 0 0 0 0 0 1 0 0 0 1 1 1 0 0 0 1 0 1 1 1 0 1 0 0 0 2 1 0 1 0 0 0 0 0 0 0 1 0 0 0 0 1 0 0 0 0 0 0 0 1 1 0 0 1 0 0 0 1 1 1 0 0 0 0 0 0 0 2 0 0 0 0 0 0 0 1 0 0 0 1 0 1 1 0 0 0 0 0 1 1 0 1 0 1 0 0 0 0 0 1 0 0 0 0 0 0 0 0 1 0 1 0 0 1 1 0 0 0 0 1 1 1 0 0 0 0 0 0 1 0 0 0 1 0 1 0 1 0 1 0 0 0 0 0 0 1 0 0 0 0 0 0 0 1 0 0 0 0 0 1 0 0 2 1 0 0 0 0 0 0 0 0 0 0 0 0 0 0 1 0 0 0 0 0 1 0 1 1 0 0 1 0 1 0 1 0 0 0 0 0 0 0 1 0 0 0 0 0 1 0 0 0 0 1 1 0 0 0 0 1 0 0 0 0 0 0 0 0 2 0 0 0 0 0 1 1 0 0 0 0 0 0 0 0 0 0 0 0 0 0 0 0 0 0 0 0 0 0 1 0 0 0 1 0 0 0 0 0 0 0 0 0 0 0 0 0 0 0 0 0 1 1 0 1 0 1 0 0 0 0 0 0 0 0 0 0 0 0 0 1 0 0 0 0 0 0 0 0 0 1 0 0 0 0 0 1 3 0 0 1 0 0 0 0 0 0 0 0 0 1 0 1 0 0 0 0 0 0 0 0 1 0 0 0 3 1 1 0 0 0 0 0 0 0 0 0 1 1 0 0 0 0 0 0 0 0 0 0 0 0 0 0 0 1 0 0 0 1 0 1 0 0 0 0 0 0 0 0 1 0 0 0 0 0 0 0 0 0 0 1 0 0 1 1 0 1 0 0 0 0 1 0 1 1 1 0 0 1 0 0 0 0 0 0 0 1 0 2 0 0 0 1 0 0 0 1 0 3 0 0 0 1 1 0 0 1 0 0 0 0 0 0 0 0 0 0 1 0 0 0 1 0 0 0 0 0 0 1 0 0 0 0 0 0 0 0 0 2 1 0 0 0 0 0 0 0 0 0 0 0 0 1 0 0 0 1 0 1 1 0 0 0 0 0 2 0 0 1 1 0 0 0 0 0 0 0 0 0 0 0 0 0 0 0 1 0 0 0 0 1 0 0 0 0 0 0 0 1 0 0 0 0 0 0 1 0 0 0 0 0 1 0 0 0 0 1 2 0 0 0 1 0 0 0 0 0 0 0 0 1 0 0 0 0 0 1 1 0 0 0 0 0 0 0 1 0 0 0 0 0 0 0 0 0 0 0 0 1 0 0 0 0 1 0 0 0 0 0 1 2 0 0 0 0 0 0 0 0 0 0 1 0 0 0 0 0 0 0 0 0 0 0 1 0 0 0 0 0 0 0 1 0 0 0 0 0 0 1 0 0 0 0 0 0 0 0 0 0 1 0 0 0 0 0 0 0 0 1 1 0 0 0 0 0 0 0 0 0 0 1 0 0 0 0 0 1 0 0 0 2 0 0 0 0 0 0 0 0 0 1 0 1 2 0 0 2 0 1 0 0 0 0 0 0 0 0 1 0 0 0 1 0 0 0 1 0 0 1 2 1 0 0 0 0 1 0 0 1 0 0 0 0 0 0 0 0 0 0 0 0 0 0 1 0 1 1 0 0 0 0 0 0 1 0 0 0 0 0 1 0 1 0 0 0 0 1 0 0 0 0 2 0 0 0 0 0 0 0 1 1 0 0 0 0 0 0 0 0 0 0 1 1 0 0 0 0 1 0 1 1 1 1 1 0 0 0 0 0 0 0 0 0 0 0 0 0 0 1 2 0 0 0 0 1 2 0 0 0 0 0 0 2 0 0 1 0 0 0 0 2 2 0 0 0 0 1 0 0 0 1 0 0 0 0 0 0 0 0 0 1 1 0 1 0 2 0 0 0 0 0 0 0 0 0 0 0 2 0 1 0 0 2 1 1 0 0 0 0 0 0 1 0 1 0 0 1 0 0 0 1 0 0 1 0 1 0 0 1 0 0 1 0 0 0 0 0 1 1 0 0 0 0 1 0 1 1 0 0 0 1 0 0 0 1 0 0 1 0 0 0 0 0 0 2 0 1 0 0 0 0 0 0 0 0 0 0 0 0 1 0 0 0 1 0 0 0 1 0 0 2 0 1 0 2 0 0 0 0 1 0 0 0 0 0 0 0 0 0 0 1 0 0 0 0 0 0 0 1 1 1 1 0 0 0 0 0 0 0 0 1 0 0 0 2 0 0 1 0 0 0 0 0 0 0 0 1 2 0 0 0 1 0 1 3 1 0 0 0 0 0 0 1 0 0 0 0 0 0 0 0 0 1 0 0 2 0 0 1 0 0 1 0 0 0 0 1 0 0 0 0 0 0 0 0 0 0 0 0 0 0 0 0 0 1 0 0 1 0 0 1 0 0 0 0 0 1 1 0 0 1 0 0 0 0 0 1 0 0 0 0 0 0 1 0 1 0 1 0 0 0 1 0 1 0 0 0 0 0 1 1 0 0 0 0 0 1 0 0 0 0 1 0 0 1 0 0 0 0 1 0 0 0 0 0 1 0 0 0 0 1 1 0 0 0 1 0 0 0 0 0 0 0 0 0 1 1 1 1 0 2 1 0 0 0 0 0 0 1 0 0 0 0 0 1 1 0 0 0 1 0 0 1 0 0 0 0 0 1 0 0 1 0 0 1 0 0 0 0 0 1 0 0 0 0 0 1 0 0 0 0 0 0 1 0 0 1 0 0 0 0 0 0 1 0 1 0 0 0 0 1 1 1 0 0 0 1 1 0 0 0 1 0 0 0 0 0 0 0 0 3 0 0 1 0 1 0 0 0 1 0 0 0 0 1 1 0 0 0 0 1 0 0 0 1 1 0 0 0 1 0 1 0 0 0 0 0 2 1 0 1 0 0 1 0 0 0 0 0 0 0 0 0 0 0 0 0 1 0 0 0 0 0 0 0 0 0 0 1 0 1 0 0 0 1 0 0 0 1 0 2 0 0 0 0 0 0 0 0 0 0 0 0 0 1 1 1 0 1 0 0 0 1 0 0 0 1 0 0 0 1 0 0 1 1 0 0 0 0 0 0 0 0 1 0 0 0 1 0 0 0 1 1 0 0 0 0 0 0 0 0 0 0 0 0 0 1 0 0 0 1 1 0 0 0 0 1 0 0 0 0 0 0 1 0 0 0 0 1 0 0 0 1 0 0 0 1 0 1 0 1 0 0 0 1 1 0 0 0 0 0 1 0 1 0 0 1 0 1 0 2 0 0 1 1 0 0 0 0 0 0 1 0 0 0 0 0 0 0 0 0 1 0 0 0 0 1 0 0 0 0 1 0 0 0 0 0 0 1 2 0 1 0 0 0 1 1 0 0 0 0 0 0 0 0 0 0 0 0 0 0 0 0 1 0 0 0 0 0 0 0 0 0 1 3 0 0 0 0 0 0 0 1 0 1 0 0 0 1 0 0 0 0 1 0 0 0 0 1 0 1 0 1 0 1 0 0 0 0 0 1 0 1 1 0 0 0 0 0 0 0 0 1 0 2 0 1 0 0 0 0 0 0 0 1 0 1 1 0 0 0 0 1 0 0 0 2 0 1 0 0 2 0 0 0 0 0 0 0 0 0 0 0 0 0 0 0 0 0 0 1 0 0 0 0 1 0 0 0 0 0 0 0 0 0 0 0 0 0 0 1 0 0 0 0 0 0 0 0 0 1 0 0 1 0 0 0 0 0 1 0 0 0 0 0 0 0 0 0 1 1 0 0 0 0 0 0 0 0 0 0 1 0 0 1 0 0 1 0 0 0 0 0 0 0 0 0 0 1 1 1 0 0 0 0 0 0 1 0 1 0 0 0 0 0 0 0 0 1 0 0 0 0 0 1 0 0 0 0 0 0 0 1 0 0 0 0 0 0 0 0 0 0 0 0 0 0 0 0 0 0 0 1 0 0 0 0 1 0 0 0 0 1 0 0 0 1 0 0 1 0 0 0 0 0 0 0 0 0 0 0 0 0 0 1 0 0 0 0 0 0 0 1 0 0 0 0 1 0 0 0 0 0 0 0 1 0 0 0 0 1 1 1 0 1 0 0 0 1 0 1 1 0 0 0 0 1 0 1 1 1 1 0 0 0 0 0 1 0 0 0 0 1 1 0 0 0 0 0 0 0 0 0 0 0 1 0 0 1 1 1 0 0 0 0 0 0 2 0 0 0 0 0 0 0 0 0 0 0 0 0 0 0 0 0 0 1 0 0 0 0 1 1 2 0 0 0 0 0 2 1 0 2 0 0 0 0 0 0 0 0 1 1 0 0 0 0 0 0 0 0 0 0 1 0 0 0 1 0 0 0 0 0 1 0 2 0 2 0 0 0 1 1 0 0 0 0 2 0 0 0 0 0 1 0 0 0 0 0 0 0 0 1 1 0 0 0 0 0 0 0 1 0 0 0 0 0 0 0 1 1 0 0 0 0 1 0 0 0 0 0 0 0 0 0 0 0 0 0 0 1 1 0 0 0 0 1 0 1 0 0 1 1 0 0 0 1 0 0 0 0 0 1 0 0 0 0 0 2 0 0 0 1 0 0 0 0 0 0 0 0 0 1 0 0 0 0 0 0 0 0 0 2 1 0 0 0 1 0 0 0 1 0 0 0 0 0 0 0 0 1 0 1 0 0 0 0 0 0 1 0 0 0 2 0 0 0 1 1 0 0 0 0 0 0 0 1 0 1 0 0 0 1 1 0 0 0 1 0 0 0 0 0 0 0 0 0 1 0 1 0 0 0 0 0 0 1 0 1 0 1 0 0 0 0 1 0 0 0 0 0 1 0 0 0 0 0 0 0 0 0 0 0 0 0 0 0 1 0 0 0 0 0 0 0 0 0 1 0 0 0 0 0 1 0 0 0 0 1 0 0 0 0 0 1 2 0 1 0 1 0 0 1 0 0 0 0 0 0 0 0 0 0 0 0 0 0 0 1 1 0 1 0 0 0 0 0 0 0 0 0 1 0 0 1 0 0 0 0 0 1 0 0 0 1 0 0 0 0 0 1 0 0 0 1 0 2 0 2 0 0 0 0 0 0 0 0 0 0 0 0 0 0 0 0 0 0 0 0 0 0 1 0 0 1 0 0 0 0 0 0 0 0 0 1 1 0 0 1 1 0 1 0 0 0 0 0 0 0 0 0 0 0 0 0 0 0 0 0 1 0 0 0 0 0 0 1 0 1 0 0 0 0 0 0 2 0 1 0 0 0 0 1 0 1 0 0 0 0 1 0 2 1 0 0 0 0 0 0 0 0 0 0 1 0 1 0 0 0 0 0 0 1 1 1 1 0 0 0 0 0 0 0 1 0 0 0 0 0 0 0 0 1 0 2 0 0 0 1 0 1 0 0 0 0 0 1 0 0 0 0 0 0 0 0 0 0 1 0 0 0 0 0 1 0 1 0 0 0 0 0 0 0 0 0 0 0 0 0 0 0 0 0 1 0 1 1 0 0 1 1 0 0 1 0 0 0 0 0 0 0 0 0 1 0 0 1 0 0 1 0 0 0 0 1 1 0 0 0 1 0 2 0 0 2 0 0 0 0 0 0 1 0 0 1 0 0 0 1 1 1 0 0 0 0 0 0 0 1 2 0 0 0 0 0 0 1 0 0 0 0 0 0 0 0 3 0 0 0 0 0 0 1 0 1 0 1 0 0 1 0 0 0 0 0 0 0 1 2 0 2 0 0 1 0 0 0 0 0 0 2 0 0 1 0 0 0 1 0 0 0 0 0 0 1 0 0 1 0 0 1 0 1 0 1 0 0 0 0 0 0 0 0 0 1 0 0 0 1 0 0 0 0 0 1 0 0 0 0 1 0 0 2 0 0 1 0 0 0 0 0 0 0 0 1 0 0 1 0 0 1 0 0 1 0 0 0 1 0 0 1 4 0 0 0 1 0 0 0 1 1 1 0 0 3 0 0 0 0 0 0 0 0 2 0 0 0 0 0 0 1 0 0 0 0 0 0 0 2 0 0 0 0 0 0 0 0 0 1 1 0 0 0 0 0 0 0 0 0 1 0 0 0 0 1 0 0 0 0 0 0 0 1 0 1 0 0 1 0 0 0 0 0 0 0 0 0 0 0 0 0 0 1 0 0 0 1 0 0 0 0 0 0 0 0 0 1 0 0 0 0 0 0 0 0 0 0 1 1 0 1 0 1 0 0 0 2 0 0 0 0 0 0 0 0 0 0 0 0 0 0 0 0 1 1 0 0 1 0 0 0 1 2 0 0 0 1 0 1 1 0 1 1 1 0 0 0 0 0 0 0 0 0 0 1 0 2 0 1 1 1 0 0 0 0 1 0 0 0 0 0 1 0 0 0 0 0 1 0 0 0 1 0 1 0 2 0 0 1 1 0 0 0 0 0 0 0 0 0 1 0 3 0 0 2 1 0 1 0 1 0 1 0 1 0 0 0 0 0 1 1 2 0 1 0 0 0 0 0 1 0 0 0 0 0 0 0 0 0 0 0 0 0 1 0 2 0 1 1 0 0 1 0 0 0 0 2 1 0 1 0 0 0 0 1 0 1 0 0 0 0 0 1 1 2 1 1 0 0 0 0 0 1 0 0 0 0 0 0 0 0 0 0 1 0 2 1 0 0 0 0 0 2 0 0 0 0 0 0 0 0 0 0 0 1 1 0 0 1 1 0 0 0 0 1 0 0 0 0 1 0 0 0 0 0 0 0 1 0 0 0 1 0 0 2 0 0 2 0 0 0 1 0 0 0 1 0 1 0 0 0 0 0 0 1 0 0 0 1 0 0 0 0 1 0 0 2 0 0 0 1 0 0 0 1 0 0 1 0 0 2 1 1 1 2 0 2 0 0 0 0 0 0 0 1 0 0 0 0 0 0 0 0 0 0 0 0 0 0 0 0 0 0 0 0 1 0 0 0 0 0 1 0 1 0 0 1 0 1 0 0 1 0 1 0 0 0 0 0 1 0 2 0 0 0 0 0 0 0 0 0 0 0 0 0 0 0 0 0 0 0 1 0 0 1 1 0 0 0 1 1 1 0 0 0 0 0 0 0 0 0 0 0 0 0 0 0 0 1 0 0 0 0 0 0 1 0 0 1 0 1 2 0 0 0 0 0 2 0 0 0 1 1 0 0 1 0 0 0 0 1 0 0 0 1 0 0 0 0 0 0 0 0 0 0 0 0 0 0 0 0 0 0 1 1 0 1 2 0 0 0 0 0 0 1 0 0 1 0 0 0 1 1 1 0 0 1 1 1 1 0 0 0 0 0 1 1 0 0 0 0 0 1 0 1 0 0 0 1 0 0 0 0 0 0 0 0 1 0 0 0 0 0 0 0 0 0 0 0 1 0 0 0 0 0 0 0 0 0 0 0 0 1 0 0 0 0 0 0 0 1 0 0 0 0 1 0 1 0 0 0 1 2 0 0 0 0 0 0 0 0 0 1 1 0 0 0 1 0 0 0 0 0 0 0 0 0 0 0 0 1 1 2 0 0 1 0 1 1 0 1 0 1 0 0 0 2 0 1 1 0 0 0 0 0 0 0 1 1 1 1 0 0 0 0 0 0 0 0 1 0 0 0 0 1 0 0 1 0 0 0 1 0 0 0 0 ==PROF== Disconnected from process 397\n",
            "[397] lab3_ex3@127.0.0.1\n",
            "  histogram_kernel(unsigned int*, unsigned int*, unsigned int, unsigned int), 2022-Dec-13 10:18:23, Context 1, Stream 7\n",
            "    Section: GPU Speed Of Light\n",
            "    ---------------------------------------------------------------------- --------------- ------------------------------\n",
            "    DRAM Frequency                                                           cycle/nsecond                              5\n",
            "    SM Frequency                                                             cycle/usecond                         582.55\n",
            "    Elapsed Cycles                                                                   cycle                          2,238\n",
            "    Memory [%]                                                                           %                           2.57\n",
            "    SOL DRAM                                                                             %                           2.57\n",
            "    Duration                                                                       usecond                           3.84\n",
            "    SOL L1/TEX Cache                                                                     %                           5.23\n",
            "    SOL L2 Cache                                                                         %                           2.01\n",
            "    SM Active Cycles                                                                 cycle                         722.17\n",
            "    SM [%]                                                                               %                           0.35\n",
            "    ---------------------------------------------------------------------- --------------- ------------------------------\n",
            "    WRN   This kernel grid is too small to fill the available resources on this device, resulting in only 0.1 full      \n",
            "          waves across all SMs. Look at Launch Statistics for more details.                                             \n",
            "\n",
            "    Section: Launch Statistics\n",
            "    ---------------------------------------------------------------------- --------------- ------------------------------\n",
            "    Block Size                                                                                                         32\n",
            "    Function Cache Configuration                                                                  cudaFuncCachePreferNone\n",
            "    Grid Size                                                                                                          32\n",
            "    Registers Per Thread                                                   register/thread                             16\n",
            "    Shared Memory Configuration Size                                                 Kbyte                          32.77\n",
            "    Driver Shared Memory Per Block                                              byte/block                              0\n",
            "    Dynamic Shared Memory Per Block                                             byte/block                              0\n",
            "    Static Shared Memory Per Block                                              byte/block                              0\n",
            "    Threads                                                                         thread                          1,024\n",
            "    Waves Per SM                                                                                                     0.05\n",
            "    ---------------------------------------------------------------------- --------------- ------------------------------\n",
            "    WRN   The grid for this launch is configured to execute only 32 blocks, which is less than the GPU's 40             \n",
            "          multiprocessors. This can underutilize some multiprocessors. If you do not intend to execute this kernel      \n",
            "          concurrently with other workloads, consider reducing the block size to have at least one block per            \n",
            "          multiprocessor or increase the size of the grid to fully utilize the available hardware resources.            \n",
            "\n",
            "    Section: Occupancy\n",
            "    ---------------------------------------------------------------------- --------------- ------------------------------\n",
            "    Block Limit SM                                                                   block                             16\n",
            "    Block Limit Registers                                                            block                            128\n",
            "    Block Limit Shared Mem                                                           block                             16\n",
            "    Block Limit Warps                                                                block                             32\n",
            "    Theoretical Active Warps per SM                                                   warp                             16\n",
            "    Theoretical Occupancy                                                                %                             50\n",
            "    Achieved Occupancy                                                                   %                           3.12\n",
            "    Achieved Active Warps Per SM                                                      warp                              1\n",
            "    ---------------------------------------------------------------------- --------------- ------------------------------\n",
            "\n",
            "  convert_kernel(unsigned int*, unsigned int), 2022-Dec-13 10:18:23, Context 1, Stream 7\n",
            "    Section: GPU Speed Of Light\n",
            "    ---------------------------------------------------------------------- --------------- ------------------------------\n",
            "    DRAM Frequency                                                           cycle/nsecond                           4.76\n",
            "    SM Frequency                                                             cycle/usecond                         559.48\n",
            "    Elapsed Cycles                                                                   cycle                          2,078\n",
            "    Memory [%]                                                                           %                           0.75\n",
            "    SOL DRAM                                                                             %                           0.48\n",
            "    Duration                                                                       usecond                           3.71\n",
            "    SOL L1/TEX Cache                                                                     %                           0.70\n",
            "    SOL L2 Cache                                                                         %                           0.75\n",
            "    SM Active Cycles                                                                 cycle                         686.27\n",
            "    SM [%]                                                                               %                           0.15\n",
            "    ---------------------------------------------------------------------- --------------- ------------------------------\n",
            "    WRN   This kernel grid is too small to fill the available resources on this device, resulting in only 0.1 full      \n",
            "          waves across all SMs. Look at Launch Statistics for more details.                                             \n",
            "\n",
            "    Section: Launch Statistics\n",
            "    ---------------------------------------------------------------------- --------------- ------------------------------\n",
            "    Block Size                                                                                                         32\n",
            "    Function Cache Configuration                                                                  cudaFuncCachePreferNone\n",
            "    Grid Size                                                                                                          32\n",
            "    Registers Per Thread                                                   register/thread                             16\n",
            "    Shared Memory Configuration Size                                                 Kbyte                          32.77\n",
            "    Driver Shared Memory Per Block                                              byte/block                              0\n",
            "    Dynamic Shared Memory Per Block                                             byte/block                              0\n",
            "    Static Shared Memory Per Block                                              byte/block                              0\n",
            "    Threads                                                                         thread                          1,024\n",
            "    Waves Per SM                                                                                                     0.05\n",
            "    ---------------------------------------------------------------------- --------------- ------------------------------\n",
            "    WRN   The grid for this launch is configured to execute only 32 blocks, which is less than the GPU's 40             \n",
            "          multiprocessors. This can underutilize some multiprocessors. If you do not intend to execute this kernel      \n",
            "          concurrently with other workloads, consider reducing the block size to have at least one block per            \n",
            "          multiprocessor or increase the size of the grid to fully utilize the available hardware resources.            \n",
            "\n",
            "    Section: Occupancy\n",
            "    ---------------------------------------------------------------------- --------------- ------------------------------\n",
            "    Block Limit SM                                                                   block                             16\n",
            "    Block Limit Registers                                                            block                            128\n",
            "    Block Limit Shared Mem                                                           block                             16\n",
            "    Block Limit Warps                                                                block                             32\n",
            "    Theoretical Active Warps per SM                                                   warp                             16\n",
            "    Theoretical Occupancy                                                                %                             50\n",
            "    Achieved Occupancy                                                                   %                           3.12\n",
            "    Achieved Active Warps Per SM                                                      warp                              1\n",
            "    ---------------------------------------------------------------------- --------------- ------------------------------\n",
            "\n"
          ]
        }
      ]
    },
    {
      "cell_type": "markdown",
      "source": [
        "# Ex4 A Particle Simulation Application"
      ],
      "metadata": {
        "id": "_XLvGQPqExSJ"
      }
    },
    {
      "cell_type": "markdown",
      "source": [
        "### Questions"
      ],
      "metadata": {
        "id": "vwtmAQnXE04X"
      }
    },
    {
      "cell_type": "markdown",
      "source": [
        "1. Describe the environment you used, what changes you made to the Makefile, and how you ran the simulation.\n",
        "\n",
        "  **Just like last lab, in order to run correctly on colab gpus, we need to change `sm_30` to `sm_75`. Then just reguler `make all` is enough.**"
      ],
      "metadata": {
        "id": "PHGNv27P6SNn"
      }
    },
    {
      "cell_type": "markdown",
      "source": [
        "2. Describe your design of the GPU implementation of mover_PC() briefly. \n",
        "  \n",
        "  I mostly followed the steps in earlier exercises, including \n",
        "\n",
        "  • Allocate device memory\n",
        "\n",
        "  • Copy from host memory to device memory\n",
        "\n",
        "  • Initialize thread block and kernel grid dimensions\n",
        "\n",
        "  • Invoke CUDA kernel\n",
        "\n",
        "  • Copy results from GPU to CPU\n",
        "\n",
        "  • Free device memory\n",
        "\n",
        "  And as for the CUDA kernel, I just copied the `move_PC()` function and move it out to a function called `commonUsage` to avoid duplicate codes. "
      ],
      "metadata": {
        "id": "sANCCzrx6aho"
      }
    },
    {
      "cell_type": "code",
      "source": [
        "%cd ..\n",
        "!rm -rf sputniPIC-DD2360/\n",
        "!git clone https://github.com/zehaoj/sputniPIC-DD2360.git --depth=1"
      ],
      "metadata": {
        "colab": {
          "base_uri": "https://localhost:8080/"
        },
        "id": "QOFQyhdDGxYr",
        "outputId": "87b2ad45-5e50-4765-a093-e54ab22778da"
      },
      "execution_count": 19,
      "outputs": [
        {
          "output_type": "stream",
          "name": "stdout",
          "text": [
            "/content\n",
            "Cloning into 'sputniPIC-DD2360'...\n",
            "remote: Enumerating objects: 42, done.\u001b[K\n",
            "remote: Counting objects: 100% (42/42), done.\u001b[K\n",
            "remote: Compressing objects: 100% (40/40), done.\u001b[K\n",
            "remote: Total 42 (delta 2), reused 34 (delta 2), pack-reused 0\u001b[K\n",
            "Unpacking objects: 100% (42/42), done.\n"
          ]
        }
      ]
    },
    {
      "cell_type": "code",
      "source": [
        "%cd sputniPIC-DD2360\n",
        "!make all"
      ],
      "metadata": {
        "colab": {
          "base_uri": "https://localhost:8080/"
        },
        "id": "tn8d5YV0G15D",
        "outputId": "b8242ab7-08ce-4ee8-c6df-a89ddd83517d"
      },
      "execution_count": 20,
      "outputs": [
        {
          "output_type": "stream",
          "name": "stdout",
          "text": [
            "/content/sputniPIC-DD2360\n",
            "mkdir -p ./bin\n",
            "[ -d src ] || mkdir src\n",
            "nvcc -std=c++11 -I./include -O3 -g -Xcompiler -Wall src/TransArraySpace3D.cpp -c -o src/TransArraySpace3D.o\n",
            "[ -d src ] || mkdir src\n",
            "nvcc -std=c++11 -I./include -O3 -g -Xcompiler -Wall src/EMfield.cpp -c -o src/EMfield.o\n",
            "[ -d src ] || mkdir src\n",
            "nvcc -std=c++11 -I./include -O3 -g -Xcompiler -Wall src/Basic.cpp -c -o src/Basic.o\n",
            "[ -d src ] || mkdir src\n",
            "nvcc -std=c++11 -I./include -O3 -g -Xcompiler -Wall src/Particles_aux.cpp -c -o src/Particles_aux.o\n",
            "\u001b[01m\u001b[Ksrc/Particles_aux.cpp:\u001b[m\u001b[K In function ‘\u001b[01m\u001b[Kvoid particle_aux_allocate(particles*, particles_aux*, int)\u001b[m\u001b[K’:\n",
            "\u001b[01m\u001b[Ksrc/Particles_aux.cpp:14:10:\u001b[m\u001b[K \u001b[01;35m\u001b[Kwarning: \u001b[m\u001b[Kunused variable ‘\u001b[01m\u001b[Knpmax\u001b[m\u001b[K’ [\u001b[01;35m\u001b[K-Wunused-variable\u001b[m\u001b[K]\n",
            "     long \u001b[01;35m\u001b[Knpmax\u001b[m\u001b[K = part->npmax;\n",
            "          \u001b[01;35m\u001b[K^~~~~\u001b[m\u001b[K\n",
            "[ -d src ] || mkdir src\n",
            "nvcc -std=c++11 -I./include -O3 -g -Xcompiler -Wall src/BC.cpp -c -o src/BC.o\n",
            "nvcc -I./include -arch=sm_75 -std=c++11 -O3 -g -Xcompiler -Wall --compiler-bindir=g++ src/Particles.cu -c -o src/Particles.o\n",
            "\u001b[01m\u001b[Ksrc/Particles.cu:\u001b[m\u001b[K In function ‘\u001b[01m\u001b[Kvoid commonUsage(int, particles*, EMfield*, grid*, parameters*)\u001b[m\u001b[K’:\n",
            "\u001b[01m\u001b[Ksrc/Particles.cu:166:38:\u001b[m\u001b[K \u001b[01;35m\u001b[Kwarning: \u001b[m\u001b[K‘\u001b[01m\u001b[Kwptilde\u001b[m\u001b[K’ may be used uninitialized in this function [\u001b[01;35m\u001b[K-Wmaybe-uninitialized\u001b[m\u001b[K]\n",
            "             part->z[i] = zpt\u001b[01;35m\u001b[Kilde + wptilde * dt_sub_cy\u001b[m\u001b[Kcling;\n",
            "                             \u001b[01;35m\u001b[K~~~~~~~~~^~~~~~~~~~~~~~~~~\u001b[m\u001b[K\n",
            "\u001b[01m\u001b[Ksrc/Particles.cu:162:26:\u001b[m\u001b[K \u001b[01;35m\u001b[Kwarning: \u001b[m\u001b[K‘\u001b[01m\u001b[Kvptilde\u001b[m\u001b[K’ may be used uninitialized in this function [\u001b[01;35m\u001b[K-Wmaybe-uninitialized\u001b[m\u001b[K]\n",
            "             part->\u001b[01;35m\u001b[Kv[i] = 2.0 * vpti\u001b[m\u001b[Klde - part->v[i];\n",
            "                   \u001b[01;35m\u001b[K~~~~~~~^~~~~~~~~~\u001b[m\u001b[K\n",
            "\u001b[01m\u001b[Ksrc/Particles.cu:161:26:\u001b[m\u001b[K \u001b[01;35m\u001b[Kwarning: \u001b[m\u001b[K‘\u001b[01m\u001b[Kuptilde\u001b[m\u001b[K’ may be used uninitialized in this function [\u001b[01;35m\u001b[K-Wmaybe-uninitialized\u001b[m\u001b[K]\n",
            "             part->\u001b[01;35m\u001b[Ku[i] = 2.0 * upti\u001b[m\u001b[Klde - part->u[i];\n",
            "                   \u001b[01;35m\u001b[K~~~~~~~^~~~~~~~~~\u001b[m\u001b[K\n",
            "\u001b[01m\u001b[Ksrc/Particles.cu:\u001b[m\u001b[K In function ‘\u001b[01m\u001b[Kint mover_PC(particles*, EMfield*, grid*, parameters*)\u001b[m\u001b[K’:\n",
            "\u001b[01m\u001b[Ksrc/Particles.cu:166:38:\u001b[m\u001b[K \u001b[01;35m\u001b[Kwarning: \u001b[m\u001b[K‘\u001b[01m\u001b[Kwptilde\u001b[m\u001b[K’ may be used uninitialized in this function [\u001b[01;35m\u001b[K-Wmaybe-uninitialized\u001b[m\u001b[K]\n",
            "             part->z[i] = zpt\u001b[01;35m\u001b[Kilde + wptilde * dt_sub_cy\u001b[m\u001b[Kcling;\n",
            "                             \u001b[01;35m\u001b[K~~~~~~~~~^~~~~~~~~~~~~~~~~\u001b[m\u001b[K\n",
            "\u001b[01m\u001b[Ksrc/Particles.cu:95:53:\u001b[m\u001b[K \u001b[01;36m\u001b[Knote: \u001b[m\u001b[K‘\u001b[01m\u001b[Kwptilde\u001b[m\u001b[K’ was declared here\n",
            "     FPpart xptilde, yptilde, zptilde, uptilde, vptil\u001b[01;36m\u001b[Kde, wpt\u001b[m\u001b[Kilde;\n",
            "                                                     \u001b[01;36m\u001b[K^~~~~~~\u001b[m\u001b[K\n",
            "\u001b[01m\u001b[Ksrc/Particles.cu:162:26:\u001b[m\u001b[K \u001b[01;35m\u001b[Kwarning: \u001b[m\u001b[K‘\u001b[01m\u001b[Kvptilde\u001b[m\u001b[K’ may be used uninitialized in this function [\u001b[01;35m\u001b[K-Wmaybe-uninitialized\u001b[m\u001b[K]\n",
            "             part->\u001b[01;35m\u001b[Kv[i] = 2.0 * vpti\u001b[m\u001b[Klde - part->v[i];\n",
            "                   \u001b[01;35m\u001b[K~~~~~~~^~~~~~~~~~\u001b[m\u001b[K\n",
            "\u001b[01m\u001b[Ksrc/Particles.cu:95:44:\u001b[m\u001b[K \u001b[01;36m\u001b[Knote: \u001b[m\u001b[K‘\u001b[01m\u001b[Kvptilde\u001b[m\u001b[K’ was declared here\n",
            "     FPpart xptilde, yptilde, zptilde, uptil\u001b[01;36m\u001b[Kde, vpt\u001b[m\u001b[Kilde, wptilde;\n",
            "                                            \u001b[01;36m\u001b[K^~~~~~~\u001b[m\u001b[K\n",
            "\u001b[01m\u001b[Ksrc/Particles.cu:161:26:\u001b[m\u001b[K \u001b[01;35m\u001b[Kwarning: \u001b[m\u001b[K‘\u001b[01m\u001b[Kuptilde\u001b[m\u001b[K’ may be used uninitialized in this function [\u001b[01;35m\u001b[K-Wmaybe-uninitialized\u001b[m\u001b[K]\n",
            "             part->\u001b[01;35m\u001b[Ku[i] = 2.0 * upti\u001b[m\u001b[Klde - part->u[i];\n",
            "                   \u001b[01;35m\u001b[K~~~~~~~^~~~~~~~~~\u001b[m\u001b[K\n",
            "\u001b[01m\u001b[Ksrc/Particles.cu:95:35:\u001b[m\u001b[K \u001b[01;36m\u001b[Knote: \u001b[m\u001b[K‘\u001b[01m\u001b[Kuptilde\u001b[m\u001b[K’ was declared here\n",
            "     FPpart xptilde, yptilde, zptil\u001b[01;36m\u001b[Kde, upt\u001b[m\u001b[Kilde, vptilde, wptilde;\n",
            "                                   \u001b[01;36m\u001b[K^~~~~~~\u001b[m\u001b[K\n",
            "[ -d src ] || mkdir src\n",
            "nvcc -std=c++11 -I./include -O3 -g -Xcompiler -Wall src/RW_IO.cpp -c -o src/RW_IO.o\n",
            "[ -d src ] || mkdir src\n",
            "nvcc -std=c++11 -I./include -O3 -g -Xcompiler -Wall src/ConfigFile.cpp -c -o src/ConfigFile.o\n",
            "[ -d src ] || mkdir src\n",
            "nvcc -std=c++11 -I./include -O3 -g -Xcompiler -Wall src/InterpDensNet.cpp -c -o src/InterpDensNet.o\n",
            "[ -d src ] || mkdir src\n",
            "nvcc -std=c++11 -I./include -O3 -g -Xcompiler -Wall src/sputniPIC.cpp -c -o src/sputniPIC.o\n",
            "In file included from \u001b[01m\u001b[Ksrc/sputniPIC.cpp:25:0\u001b[m\u001b[K:\n",
            "\u001b[01m\u001b[K./include/IC.h:\u001b[m\u001b[K In function ‘\u001b[01m\u001b[Kvoid initGEM(parameters*, grid*, EMfield*, EMfield_aux*, particles*, interpDensSpecies*)\u001b[m\u001b[K’:\n",
            "\u001b[01m\u001b[K./include/IC.h:82:25:\u001b[m\u001b[K \u001b[01;35m\u001b[Kwarning: \u001b[m\u001b[Kunused variable ‘\u001b[01m\u001b[Ksign\u001b[m\u001b[K’ [\u001b[01;35m\u001b[K-Wunused-variable\u001b[m\u001b[K]\n",
            "     double prob, theta, \u001b[01;35m\u001b[Ksign\u001b[m\u001b[K;\n",
            "                         \u001b[01;35m\u001b[K^~~~\u001b[m\u001b[K\n",
            "[ -d src ] || mkdir src\n",
            "nvcc -std=c++11 -I./include -O3 -g -Xcompiler -Wall src/InterpDensSpecies.cpp -c -o src/InterpDensSpecies.o\n",
            "[ -d src ] || mkdir src\n",
            "nvcc -std=c++11 -I./include -O3 -g -Xcompiler -Wall src/Grid.cpp -c -o src/Grid.o\n",
            "[ -d src ] || mkdir src\n",
            "nvcc -std=c++11 -I./include -O3 -g -Xcompiler -Wall src/EMfield_aux.cpp -c -o src/EMfield_aux.o\n",
            "[ -d src ] || mkdir src\n",
            "nvcc -std=c++11 -I./include -O3 -g -Xcompiler -Wall src/Timing.cpp -c -o src/Timing.o\n",
            "nvcc -I./include -arch=sm_75 -std=c++11 -O3 -g -Xcompiler -Wall --compiler-bindir=g++ src/TransArraySpace3D.o src/EMfield.o src/Basic.o src/Particles_aux.o src/BC.o src/Particles.o src/RW_IO.o src/ConfigFile.o src/InterpDensNet.o src/sputniPIC.o src/InterpDensSpecies.o src/Grid.o src/EMfield_aux.o src/Timing.o -o bin/sputniPIC.out\n"
          ]
        }
      ]
    },
    {
      "cell_type": "code",
      "source": [
        "!./bin/sputniPIC.out inputfiles/GEM_2D.inp"
      ],
      "metadata": {
        "colab": {
          "base_uri": "https://localhost:8080/"
        },
        "id": "gpoMDunXHH0n",
        "outputId": "2f8f996a-f3ce-4afd-b8bb-2bda72f226ce"
      },
      "execution_count": 21,
      "outputs": [
        {
          "output_type": "stream",
          "name": "stdout",
          "text": [
            "\n",
            "-------------------------\n",
            "sputniPIC Sim. Parameters\n",
            "-------------------------\n",
            "Number of species    = 4\n",
            "Number of particles of species 0 = 4096000\t (MAX = 4096000)  QOM = -64\n",
            "Number of particles of species 1 = 4096000\t (MAX = 4096000)  QOM = 1\n",
            "Number of particles of species 2 = 4096000\t (MAX = 4096000)  QOM = -64\n",
            "Number of particles of species 3 = 4096000\t (MAX = 4096000)  QOM = 1\n",
            "x-Length                 = 40\n",
            "y-Length                 = 20\n",
            "z-Length                 = 1\n",
            "Number of cells (x)      = 256\n",
            "Number of cells (y)      = 128\n",
            "Number of cells (z)      = 1\n",
            "Time step                = 0.25\n",
            "Number of cycles         = 10\n",
            "Results saved in: data\n",
            "*************************************************\n",
            "**  Initialize GEM Challenge with Pertubation  **\n",
            "*************************************************\n",
            "** B0x = 0.0195\n",
            "** B0y = 0\n",
            "** B0z = 0\n",
            "** Delta (current sheet thickness) = 0.5\n",
            "** rho species 0 = 1 CURRENT SHEET \n",
            "** rho species 1 = 1 CURRENT SHEET \n",
            "** rho species 2 = 0.02 BACKGROUND \n",
            "** rho species 3 = 0.02 BACKGROUND \n",
            "*************************************************\n",
            "\n",
            "***********************\n",
            "   cycle = 1\n",
            "***********************\n",
            "***  GPU MOVER with SUBCYCLYING 1 - species 0 ***\n",
            "***  GPU MOVER with SUBCYCLYING 1 - species 1 ***\n",
            "***  GPU MOVER with SUBCYCLYING 1 - species 2 ***\n",
            "***  GPU MOVER with SUBCYCLYING 1 - species 3 ***\n",
            "\n",
            "***********************\n",
            "   cycle = 2\n",
            "***********************\n",
            "***  GPU MOVER with SUBCYCLYING 1 - species 0 ***\n",
            "***  GPU MOVER with SUBCYCLYING 1 - species 1 ***\n",
            "***  GPU MOVER with SUBCYCLYING 1 - species 2 ***\n",
            "***  GPU MOVER with SUBCYCLYING 1 - species 3 ***\n",
            "\n",
            "***********************\n",
            "   cycle = 3\n",
            "***********************\n",
            "***  GPU MOVER with SUBCYCLYING 1 - species 0 ***\n",
            "***  GPU MOVER with SUBCYCLYING 1 - species 1 ***\n",
            "***  GPU MOVER with SUBCYCLYING 1 - species 2 ***\n",
            "***  GPU MOVER with SUBCYCLYING 1 - species 3 ***\n",
            "\n",
            "***********************\n",
            "   cycle = 4\n",
            "***********************\n",
            "***  GPU MOVER with SUBCYCLYING 1 - species 0 ***\n",
            "***  GPU MOVER with SUBCYCLYING 1 - species 1 ***\n",
            "***  GPU MOVER with SUBCYCLYING 1 - species 2 ***\n",
            "***  GPU MOVER with SUBCYCLYING 1 - species 3 ***\n",
            "\n",
            "***********************\n",
            "   cycle = 5\n",
            "***********************\n",
            "***  GPU MOVER with SUBCYCLYING 1 - species 0 ***\n",
            "***  GPU MOVER with SUBCYCLYING 1 - species 1 ***\n",
            "***  GPU MOVER with SUBCYCLYING 1 - species 2 ***\n",
            "***  GPU MOVER with SUBCYCLYING 1 - species 3 ***\n",
            "\n",
            "***********************\n",
            "   cycle = 6\n",
            "***********************\n",
            "***  GPU MOVER with SUBCYCLYING 1 - species 0 ***\n",
            "***  GPU MOVER with SUBCYCLYING 1 - species 1 ***\n",
            "***  GPU MOVER with SUBCYCLYING 1 - species 2 ***\n",
            "***  GPU MOVER with SUBCYCLYING 1 - species 3 ***\n",
            "\n",
            "***********************\n",
            "   cycle = 7\n",
            "***********************\n",
            "***  GPU MOVER with SUBCYCLYING 1 - species 0 ***\n",
            "***  GPU MOVER with SUBCYCLYING 1 - species 1 ***\n",
            "***  GPU MOVER with SUBCYCLYING 1 - species 2 ***\n",
            "***  GPU MOVER with SUBCYCLYING 1 - species 3 ***\n",
            "\n",
            "***********************\n",
            "   cycle = 8\n",
            "***********************\n",
            "***  GPU MOVER with SUBCYCLYING 1 - species 0 ***\n",
            "***  GPU MOVER with SUBCYCLYING 1 - species 1 ***\n",
            "***  GPU MOVER with SUBCYCLYING 1 - species 2 ***\n",
            "***  GPU MOVER with SUBCYCLYING 1 - species 3 ***\n",
            "\n",
            "***********************\n",
            "   cycle = 9\n",
            "***********************\n",
            "***  GPU MOVER with SUBCYCLYING 1 - species 0 ***\n",
            "***  GPU MOVER with SUBCYCLYING 1 - species 1 ***\n",
            "***  GPU MOVER with SUBCYCLYING 1 - species 2 ***\n",
            "***  GPU MOVER with SUBCYCLYING 1 - species 3 ***\n",
            "\n",
            "***********************\n",
            "   cycle = 10\n",
            "***********************\n",
            "***  GPU MOVER with SUBCYCLYING 1 - species 0 ***\n",
            "***  GPU MOVER with SUBCYCLYING 1 - species 1 ***\n",
            "***  GPU MOVER with SUBCYCLYING 1 - species 2 ***\n",
            "***  GPU MOVER with SUBCYCLYING 1 - species 3 ***\n",
            "Opening file: ./data/E_10.vtk\n",
            "Opening file: ./data/B_10.vtk\n",
            "Opening file: ./data/rhoe_10.vtk\n",
            "Opening file: ./data/rhoi_10.vtk\n",
            "Opening file: ./data/rho_net_10.vtk\n",
            "\n",
            "**************************************\n",
            "   Tot. Simulation Time (s) = 27.9424\n",
            "   Mover Time / Cycle   (s) = 0.0969034\n",
            "   Interp. Time / Cycle (s) = 2.28906\n",
            "**************************************\n"
          ]
        }
      ]
    },
    {
      "cell_type": "markdown",
      "source": [
        "3. Compare the output of both CPU and GPU implementation to guarantee that your GPU implementations produce correct answers.\n",
        "\n",
        "  True.\n",
        "\n",
        "4. Compare the execution time of your GPU implementation with its CPU version.\n",
        "\n",
        "  Up: GPU; Down: CPU\n",
        "\n",
        "  ![Screenshot 2022-12-13 at 10.54.37.png](data:image/png;base64,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)![Screenshot 2022-12-13 at 10.53.22.png](data:image/png;base64,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)\n"
      ],
      "metadata": {
        "id": "oDD-Et08-C_n"
      }
    },
    {
      "cell_type": "code",
      "source": [],
      "metadata": {
        "id": "hO1EUIiY-Mfg"
      },
      "execution_count": 21,
      "outputs": []
    }
  ]
}